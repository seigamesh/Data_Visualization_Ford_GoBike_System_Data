{
 "cells": [
  {
   "cell_type": "markdown",
   "metadata": {},
   "source": [
    "# Data Visualization: Ford GoBike System Data\n",
    "## by Seishu Miki\n",
    "\n",
    "## Preliminary Wrangling\n",
    "\n",
    "\n",
    "The data is Bay Wheels's trip data for public use which I downloaded from https://www.lyft.com/bikes/bay-wheels/system-data.\n",
    "In this project, I use the trip data in 2018."
   ]
  },
  {
   "cell_type": "code",
   "execution_count": 9,
   "metadata": {},
   "outputs": [],
   "source": [
    "# import all packages and set plots to be embedded inline\n",
    "import numpy as np\n",
    "import pandas as pd\n",
    "import matplotlib.pyplot as plt\n",
    "import seaborn as sb\n",
    "import os\n",
    "import glob\n",
    "\n",
    "%matplotlib inline"
   ]
  },
  {
   "cell_type": "markdown",
   "metadata": {},
   "source": [
    "### Gathering Data###"
   ]
  },
  {
   "cell_type": "markdown",
   "metadata": {},
   "source": [
    "First of all, I will gather gather data and save the data set as csv file."
   ]
  },
  {
   "cell_type": "code",
   "execution_count": 10,
   "metadata": {},
   "outputs": [
    {
     "data": {
      "text/html": [
       "<div>\n",
       "<style scoped>\n",
       "    .dataframe tbody tr th:only-of-type {\n",
       "        vertical-align: middle;\n",
       "    }\n",
       "\n",
       "    .dataframe tbody tr th {\n",
       "        vertical-align: top;\n",
       "    }\n",
       "\n",
       "    .dataframe thead th {\n",
       "        text-align: right;\n",
       "    }\n",
       "</style>\n",
       "<table border=\"1\" class=\"dataframe\">\n",
       "  <thead>\n",
       "    <tr style=\"text-align: right;\">\n",
       "      <th></th>\n",
       "      <th>duration_sec</th>\n",
       "      <th>start_time</th>\n",
       "      <th>end_time</th>\n",
       "      <th>start_station_id</th>\n",
       "      <th>start_station_name</th>\n",
       "      <th>start_station_latitude</th>\n",
       "      <th>start_station_longitude</th>\n",
       "      <th>end_station_id</th>\n",
       "      <th>end_station_name</th>\n",
       "      <th>end_station_latitude</th>\n",
       "      <th>end_station_longitude</th>\n",
       "      <th>bike_id</th>\n",
       "      <th>user_type</th>\n",
       "      <th>bike_share_for_all_trip</th>\n",
       "    </tr>\n",
       "  </thead>\n",
       "  <tbody>\n",
       "    <tr>\n",
       "      <td>0</td>\n",
       "      <td>598</td>\n",
       "      <td>2018-02-28 23:59:47.0970</td>\n",
       "      <td>2018-03-01 00:09:45.1870</td>\n",
       "      <td>284.0</td>\n",
       "      <td>Yerba Buena Center for the Arts (Howard St at ...</td>\n",
       "      <td>37.784872</td>\n",
       "      <td>-122.400876</td>\n",
       "      <td>114.0</td>\n",
       "      <td>Rhode Island St at 17th St</td>\n",
       "      <td>37.764478</td>\n",
       "      <td>-122.402570</td>\n",
       "      <td>1035</td>\n",
       "      <td>Subscriber</td>\n",
       "      <td>No</td>\n",
       "    </tr>\n",
       "    <tr>\n",
       "      <td>1</td>\n",
       "      <td>943</td>\n",
       "      <td>2018-02-28 23:21:16.4950</td>\n",
       "      <td>2018-02-28 23:36:59.9740</td>\n",
       "      <td>6.0</td>\n",
       "      <td>The Embarcadero at Sansome St</td>\n",
       "      <td>37.804770</td>\n",
       "      <td>-122.403234</td>\n",
       "      <td>324.0</td>\n",
       "      <td>Union Square (Powell St at Post St)</td>\n",
       "      <td>37.788300</td>\n",
       "      <td>-122.408531</td>\n",
       "      <td>1673</td>\n",
       "      <td>Customer</td>\n",
       "      <td>No</td>\n",
       "    </tr>\n",
       "    <tr>\n",
       "      <td>2</td>\n",
       "      <td>18587</td>\n",
       "      <td>2018-02-28 18:20:55.1900</td>\n",
       "      <td>2018-02-28 23:30:42.9250</td>\n",
       "      <td>93.0</td>\n",
       "      <td>4th St at Mission Bay Blvd S</td>\n",
       "      <td>37.770407</td>\n",
       "      <td>-122.391198</td>\n",
       "      <td>15.0</td>\n",
       "      <td>San Francisco Ferry Building (Harry Bridges Pl...</td>\n",
       "      <td>37.795392</td>\n",
       "      <td>-122.394203</td>\n",
       "      <td>3498</td>\n",
       "      <td>Customer</td>\n",
       "      <td>No</td>\n",
       "    </tr>\n",
       "    <tr>\n",
       "      <td>3</td>\n",
       "      <td>18558</td>\n",
       "      <td>2018-02-28 18:20:53.6210</td>\n",
       "      <td>2018-02-28 23:30:12.4500</td>\n",
       "      <td>93.0</td>\n",
       "      <td>4th St at Mission Bay Blvd S</td>\n",
       "      <td>37.770407</td>\n",
       "      <td>-122.391198</td>\n",
       "      <td>15.0</td>\n",
       "      <td>San Francisco Ferry Building (Harry Bridges Pl...</td>\n",
       "      <td>37.795392</td>\n",
       "      <td>-122.394203</td>\n",
       "      <td>3129</td>\n",
       "      <td>Customer</td>\n",
       "      <td>No</td>\n",
       "    </tr>\n",
       "    <tr>\n",
       "      <td>4</td>\n",
       "      <td>885</td>\n",
       "      <td>2018-02-28 23:15:12.8580</td>\n",
       "      <td>2018-02-28 23:29:58.6080</td>\n",
       "      <td>308.0</td>\n",
       "      <td>San Pedro Square</td>\n",
       "      <td>37.336802</td>\n",
       "      <td>-121.894090</td>\n",
       "      <td>297.0</td>\n",
       "      <td>Locust St at Grant St</td>\n",
       "      <td>37.322980</td>\n",
       "      <td>-121.887931</td>\n",
       "      <td>1839</td>\n",
       "      <td>Subscriber</td>\n",
       "      <td>Yes</td>\n",
       "    </tr>\n",
       "  </tbody>\n",
       "</table>\n",
       "</div>"
      ],
      "text/plain": [
       "   duration_sec                start_time                  end_time  \\\n",
       "0           598  2018-02-28 23:59:47.0970  2018-03-01 00:09:45.1870   \n",
       "1           943  2018-02-28 23:21:16.4950  2018-02-28 23:36:59.9740   \n",
       "2         18587  2018-02-28 18:20:55.1900  2018-02-28 23:30:42.9250   \n",
       "3         18558  2018-02-28 18:20:53.6210  2018-02-28 23:30:12.4500   \n",
       "4           885  2018-02-28 23:15:12.8580  2018-02-28 23:29:58.6080   \n",
       "\n",
       "   start_station_id                                 start_station_name  \\\n",
       "0             284.0  Yerba Buena Center for the Arts (Howard St at ...   \n",
       "1               6.0                      The Embarcadero at Sansome St   \n",
       "2              93.0                       4th St at Mission Bay Blvd S   \n",
       "3              93.0                       4th St at Mission Bay Blvd S   \n",
       "4             308.0                                   San Pedro Square   \n",
       "\n",
       "   start_station_latitude  start_station_longitude  end_station_id  \\\n",
       "0               37.784872              -122.400876           114.0   \n",
       "1               37.804770              -122.403234           324.0   \n",
       "2               37.770407              -122.391198            15.0   \n",
       "3               37.770407              -122.391198            15.0   \n",
       "4               37.336802              -121.894090           297.0   \n",
       "\n",
       "                                    end_station_name  end_station_latitude  \\\n",
       "0                         Rhode Island St at 17th St             37.764478   \n",
       "1                Union Square (Powell St at Post St)             37.788300   \n",
       "2  San Francisco Ferry Building (Harry Bridges Pl...             37.795392   \n",
       "3  San Francisco Ferry Building (Harry Bridges Pl...             37.795392   \n",
       "4                              Locust St at Grant St             37.322980   \n",
       "\n",
       "   end_station_longitude  bike_id   user_type bike_share_for_all_trip  \n",
       "0            -122.402570     1035  Subscriber                      No  \n",
       "1            -122.408531     1673    Customer                      No  \n",
       "2            -122.394203     3498    Customer                      No  \n",
       "3            -122.394203     3129    Customer                      No  \n",
       "4            -121.887931     1839  Subscriber                     Yes  "
      ]
     },
     "execution_count": 10,
     "metadata": {},
     "output_type": "execute_result"
    }
   ],
   "source": [
    "folder = 'data_set'\n",
    "frame = [pd.read_csv(f) for f in glob.glob(os.path.join(folder, '*.csv'))]\n",
    "result = pd.concat(frame, ignore_index=True)\n",
    "result.head()"
   ]
  },
  {
   "cell_type": "code",
   "execution_count": 13,
   "metadata": {},
   "outputs": [
    {
     "data": {
      "text/plain": [
       "(1863721, 14)"
      ]
     },
     "execution_count": 13,
     "metadata": {},
     "output_type": "execute_result"
    }
   ],
   "source": [
    "result.shape"
   ]
  },
  {
   "cell_type": "code",
   "execution_count": 14,
   "metadata": {},
   "outputs": [],
   "source": [
    "result.to_csv('fordgobike_2018.csv', index=False)"
   ]
  },
  {
   "cell_type": "code",
   "execution_count": 16,
   "metadata": {},
   "outputs": [
    {
     "data": {
      "text/html": [
       "<div>\n",
       "<style scoped>\n",
       "    .dataframe tbody tr th:only-of-type {\n",
       "        vertical-align: middle;\n",
       "    }\n",
       "\n",
       "    .dataframe tbody tr th {\n",
       "        vertical-align: top;\n",
       "    }\n",
       "\n",
       "    .dataframe thead th {\n",
       "        text-align: right;\n",
       "    }\n",
       "</style>\n",
       "<table border=\"1\" class=\"dataframe\">\n",
       "  <thead>\n",
       "    <tr style=\"text-align: right;\">\n",
       "      <th></th>\n",
       "      <th>duration_sec</th>\n",
       "      <th>start_time</th>\n",
       "      <th>end_time</th>\n",
       "      <th>start_station_id</th>\n",
       "      <th>start_station_name</th>\n",
       "      <th>start_station_latitude</th>\n",
       "      <th>start_station_longitude</th>\n",
       "      <th>end_station_id</th>\n",
       "      <th>end_station_name</th>\n",
       "      <th>end_station_latitude</th>\n",
       "      <th>end_station_longitude</th>\n",
       "      <th>bike_id</th>\n",
       "      <th>user_type</th>\n",
       "      <th>bike_share_for_all_trip</th>\n",
       "    </tr>\n",
       "  </thead>\n",
       "  <tbody>\n",
       "    <tr>\n",
       "      <td>0</td>\n",
       "      <td>598</td>\n",
       "      <td>2018-02-28 23:59:47.0970</td>\n",
       "      <td>2018-03-01 00:09:45.1870</td>\n",
       "      <td>284.0</td>\n",
       "      <td>Yerba Buena Center for the Arts (Howard St at ...</td>\n",
       "      <td>37.784872</td>\n",
       "      <td>-122.400876</td>\n",
       "      <td>114.0</td>\n",
       "      <td>Rhode Island St at 17th St</td>\n",
       "      <td>37.764478</td>\n",
       "      <td>-122.402570</td>\n",
       "      <td>1035</td>\n",
       "      <td>Subscriber</td>\n",
       "      <td>No</td>\n",
       "    </tr>\n",
       "    <tr>\n",
       "      <td>1</td>\n",
       "      <td>943</td>\n",
       "      <td>2018-02-28 23:21:16.4950</td>\n",
       "      <td>2018-02-28 23:36:59.9740</td>\n",
       "      <td>6.0</td>\n",
       "      <td>The Embarcadero at Sansome St</td>\n",
       "      <td>37.804770</td>\n",
       "      <td>-122.403234</td>\n",
       "      <td>324.0</td>\n",
       "      <td>Union Square (Powell St at Post St)</td>\n",
       "      <td>37.788300</td>\n",
       "      <td>-122.408531</td>\n",
       "      <td>1673</td>\n",
       "      <td>Customer</td>\n",
       "      <td>No</td>\n",
       "    </tr>\n",
       "    <tr>\n",
       "      <td>2</td>\n",
       "      <td>18587</td>\n",
       "      <td>2018-02-28 18:20:55.1900</td>\n",
       "      <td>2018-02-28 23:30:42.9250</td>\n",
       "      <td>93.0</td>\n",
       "      <td>4th St at Mission Bay Blvd S</td>\n",
       "      <td>37.770407</td>\n",
       "      <td>-122.391198</td>\n",
       "      <td>15.0</td>\n",
       "      <td>San Francisco Ferry Building (Harry Bridges Pl...</td>\n",
       "      <td>37.795392</td>\n",
       "      <td>-122.394203</td>\n",
       "      <td>3498</td>\n",
       "      <td>Customer</td>\n",
       "      <td>No</td>\n",
       "    </tr>\n",
       "    <tr>\n",
       "      <td>3</td>\n",
       "      <td>18558</td>\n",
       "      <td>2018-02-28 18:20:53.6210</td>\n",
       "      <td>2018-02-28 23:30:12.4500</td>\n",
       "      <td>93.0</td>\n",
       "      <td>4th St at Mission Bay Blvd S</td>\n",
       "      <td>37.770407</td>\n",
       "      <td>-122.391198</td>\n",
       "      <td>15.0</td>\n",
       "      <td>San Francisco Ferry Building (Harry Bridges Pl...</td>\n",
       "      <td>37.795392</td>\n",
       "      <td>-122.394203</td>\n",
       "      <td>3129</td>\n",
       "      <td>Customer</td>\n",
       "      <td>No</td>\n",
       "    </tr>\n",
       "    <tr>\n",
       "      <td>4</td>\n",
       "      <td>885</td>\n",
       "      <td>2018-02-28 23:15:12.8580</td>\n",
       "      <td>2018-02-28 23:29:58.6080</td>\n",
       "      <td>308.0</td>\n",
       "      <td>San Pedro Square</td>\n",
       "      <td>37.336802</td>\n",
       "      <td>-121.894090</td>\n",
       "      <td>297.0</td>\n",
       "      <td>Locust St at Grant St</td>\n",
       "      <td>37.322980</td>\n",
       "      <td>-121.887931</td>\n",
       "      <td>1839</td>\n",
       "      <td>Subscriber</td>\n",
       "      <td>Yes</td>\n",
       "    </tr>\n",
       "  </tbody>\n",
       "</table>\n",
       "</div>"
      ],
      "text/plain": [
       "   duration_sec                start_time                  end_time  \\\n",
       "0           598  2018-02-28 23:59:47.0970  2018-03-01 00:09:45.1870   \n",
       "1           943  2018-02-28 23:21:16.4950  2018-02-28 23:36:59.9740   \n",
       "2         18587  2018-02-28 18:20:55.1900  2018-02-28 23:30:42.9250   \n",
       "3         18558  2018-02-28 18:20:53.6210  2018-02-28 23:30:12.4500   \n",
       "4           885  2018-02-28 23:15:12.8580  2018-02-28 23:29:58.6080   \n",
       "\n",
       "   start_station_id                                 start_station_name  \\\n",
       "0             284.0  Yerba Buena Center for the Arts (Howard St at ...   \n",
       "1               6.0                      The Embarcadero at Sansome St   \n",
       "2              93.0                       4th St at Mission Bay Blvd S   \n",
       "3              93.0                       4th St at Mission Bay Blvd S   \n",
       "4             308.0                                   San Pedro Square   \n",
       "\n",
       "   start_station_latitude  start_station_longitude  end_station_id  \\\n",
       "0               37.784872              -122.400876           114.0   \n",
       "1               37.804770              -122.403234           324.0   \n",
       "2               37.770407              -122.391198            15.0   \n",
       "3               37.770407              -122.391198            15.0   \n",
       "4               37.336802              -121.894090           297.0   \n",
       "\n",
       "                                    end_station_name  end_station_latitude  \\\n",
       "0                         Rhode Island St at 17th St             37.764478   \n",
       "1                Union Square (Powell St at Post St)             37.788300   \n",
       "2  San Francisco Ferry Building (Harry Bridges Pl...             37.795392   \n",
       "3  San Francisco Ferry Building (Harry Bridges Pl...             37.795392   \n",
       "4                              Locust St at Grant St             37.322980   \n",
       "\n",
       "   end_station_longitude  bike_id   user_type bike_share_for_all_trip  \n",
       "0            -122.402570     1035  Subscriber                      No  \n",
       "1            -122.408531     1673    Customer                      No  \n",
       "2            -122.394203     3498    Customer                      No  \n",
       "3            -122.394203     3129    Customer                      No  \n",
       "4            -121.887931     1839  Subscriber                     Yes  "
      ]
     },
     "execution_count": 16,
     "metadata": {},
     "output_type": "execute_result"
    }
   ],
   "source": [
    "biketrip18 = pd.read_csv('fordgobike_2018.csv')\n",
    "biketrip18.head()"
   ]
  },
  {
   "cell_type": "markdown",
   "metadata": {},
   "source": [
    "### Assessing Data ###"
   ]
  },
  {
   "cell_type": "markdown",
   "metadata": {},
   "source": [
    "Second, I will assess the data set named biketrip18."
   ]
  },
  {
   "cell_type": "code",
   "execution_count": 17,
   "metadata": {},
   "outputs": [
    {
     "data": {
      "text/plain": [
       "(1863721, 14)"
      ]
     },
     "execution_count": 17,
     "metadata": {},
     "output_type": "execute_result"
    }
   ],
   "source": [
    "biketrip18.shape"
   ]
  },
  {
   "cell_type": "code",
   "execution_count": 18,
   "metadata": {},
   "outputs": [
    {
     "name": "stdout",
     "output_type": "stream",
     "text": [
      "<class 'pandas.core.frame.DataFrame'>\n",
      "RangeIndex: 1863721 entries, 0 to 1863720\n",
      "Data columns (total 14 columns):\n",
      "duration_sec               int64\n",
      "start_time                 object\n",
      "end_time                   object\n",
      "start_station_id           float64\n",
      "start_station_name         object\n",
      "start_station_latitude     float64\n",
      "start_station_longitude    float64\n",
      "end_station_id             float64\n",
      "end_station_name           object\n",
      "end_station_latitude       float64\n",
      "end_station_longitude      float64\n",
      "bike_id                    int64\n",
      "user_type                  object\n",
      "bike_share_for_all_trip    object\n",
      "dtypes: float64(6), int64(2), object(6)\n",
      "memory usage: 199.1+ MB\n"
     ]
    }
   ],
   "source": [
    "biketrip18.info()"
   ]
  },
  {
   "cell_type": "code",
   "execution_count": 19,
   "metadata": {},
   "outputs": [
    {
     "data": {
      "text/plain": [
       "duration_sec                   0\n",
       "start_time                     0\n",
       "end_time                       0\n",
       "start_station_id           11771\n",
       "start_station_name         11771\n",
       "start_station_latitude         0\n",
       "start_station_longitude        0\n",
       "end_station_id             11771\n",
       "end_station_name           11771\n",
       "end_station_latitude           0\n",
       "end_station_longitude          0\n",
       "bike_id                        0\n",
       "user_type                      0\n",
       "bike_share_for_all_trip        0\n",
       "dtype: int64"
      ]
     },
     "execution_count": 19,
     "metadata": {},
     "output_type": "execute_result"
    }
   ],
   "source": [
    "biketrip18.isnull().sum()"
   ]
  },
  {
   "cell_type": "code",
   "execution_count": 20,
   "metadata": {},
   "outputs": [
    {
     "data": {
      "text/plain": [
       "0"
      ]
     },
     "execution_count": 20,
     "metadata": {},
     "output_type": "execute_result"
    }
   ],
   "source": [
    "biketrip18.duplicated().sum()"
   ]
  },
  {
   "cell_type": "code",
   "execution_count": 21,
   "metadata": {},
   "outputs": [
    {
     "data": {
      "text/plain": [
       "Subscriber    1583554\n",
       "Customer       280167\n",
       "Name: user_type, dtype: int64"
      ]
     },
     "execution_count": 21,
     "metadata": {},
     "output_type": "execute_result"
    }
   ],
   "source": [
    "biketrip18.user_type.value_counts()"
   ]
  },
  {
   "cell_type": "code",
   "execution_count": 22,
   "metadata": {},
   "outputs": [
    {
     "data": {
      "text/plain": [
       "No     1701386\n",
       "Yes     162335\n",
       "Name: bike_share_for_all_trip, dtype: int64"
      ]
     },
     "execution_count": 22,
     "metadata": {},
     "output_type": "execute_result"
    }
   ],
   "source": [
    "biketrip18.bike_share_for_all_trip.value_counts()"
   ]
  },
  {
   "cell_type": "markdown",
   "metadata": {},
   "source": [
    "### Cleaning Data ###"
   ]
  },
  {
   "cell_type": "markdown",
   "metadata": {},
   "source": [
    "I will clean the data set fot the analysis"
   ]
  },
  {
   "cell_type": "code",
   "execution_count": 29,
   "metadata": {},
   "outputs": [
    {
     "name": "stdout",
     "output_type": "stream",
     "text": [
      "<class 'pandas.core.frame.DataFrame'>\n",
      "RangeIndex: 1863721 entries, 0 to 1863720\n",
      "Data columns (total 14 columns):\n",
      "duration_sec               1863721 non-null int64\n",
      "start_time                 1863721 non-null datetime64[ns]\n",
      "end_time                   1863721 non-null datetime64[ns]\n",
      "start_station_id           1863721 non-null object\n",
      "start_station_name         1851950 non-null object\n",
      "start_station_latitude     1863721 non-null float64\n",
      "start_station_longitude    1863721 non-null float64\n",
      "end_station_id             1863721 non-null object\n",
      "end_station_name           1851950 non-null object\n",
      "end_station_latitude       1863721 non-null float64\n",
      "end_station_longitude      1863721 non-null float64\n",
      "bike_id                    1863721 non-null object\n",
      "user_type                  1863721 non-null category\n",
      "bike_share_for_all_trip    1863721 non-null object\n",
      "dtypes: category(1), datetime64[ns](2), float64(4), int64(1), object(6)\n",
      "memory usage: 186.6+ MB\n"
     ]
    }
   ],
   "source": [
    "# Change data types　\n",
    "\n",
    "biketrip18_clean = biketrip18.copy()\n",
    "biketrip18_clean['start_time'] = pd.to_datetime(biketrip18_clean['start_time'])\n",
    "biketrip18_clean['end_time'] = pd.to_datetime(biketrip18_clean['end_time'])\n",
    "\n",
    "biketrip18_clean['start_station_id'] = biketrip18_clean['start_station_id'].astype('str')\n",
    "biketrip18_clean['end_station_id'] = biketrip18_clean['end_station_id'].astype('str')\n",
    "biketrip18_clean['bike_id'] = biketrip18_clean['bike_id'].astype('str')\n",
    "\n",
    "biketrip18_clean['user_type'] = biketrip18_clean['user_type'].astype('category')\n",
    "\n",
    "biketrip18_clean.info(null_counts=True)"
   ]
  },
  {
   "cell_type": "markdown",
   "metadata": {},
   "source": [
    "### What is the structure of your dataset?\n",
    "\n",
    "The dataset has 1863721 rows and 14 columns. \n",
    "\n",
    "### What is/are the main feature(s) of interest in your dataset?\n",
    "\n",
    "The features I am interested in are the duration of bike trip and patterns of bike rental. In addtion to them, it is interesting that the relationship between the user type (Subscriber or Customer) and the patterns of bike rental.\n",
    "\n",
    "### What features in the dataset do you think will help support your investigation into your feature(s) of interest?\n",
    "\n",
    "In order to investigate them, the data below can be used: \n",
    "\n",
    "- duration_sec\n",
    "- start_time\n",
    "- end_time \n",
    "- user_type "
   ]
  },
  {
   "cell_type": "markdown",
   "metadata": {},
   "source": [
    "To comlete the investigation, I will devide the start_time into start date, hour, day and month and also do the same to end_time."
   ]
  },
  {
   "cell_type": "code",
   "execution_count": 30,
   "metadata": {},
   "outputs": [
    {
     "data": {
      "text/html": [
       "<div>\n",
       "<style scoped>\n",
       "    .dataframe tbody tr th:only-of-type {\n",
       "        vertical-align: middle;\n",
       "    }\n",
       "\n",
       "    .dataframe tbody tr th {\n",
       "        vertical-align: top;\n",
       "    }\n",
       "\n",
       "    .dataframe thead th {\n",
       "        text-align: right;\n",
       "    }\n",
       "</style>\n",
       "<table border=\"1\" class=\"dataframe\">\n",
       "  <thead>\n",
       "    <tr style=\"text-align: right;\">\n",
       "      <th></th>\n",
       "      <th>duration_sec</th>\n",
       "      <th>start_time</th>\n",
       "      <th>end_time</th>\n",
       "      <th>start_station_id</th>\n",
       "      <th>start_station_name</th>\n",
       "      <th>start_station_latitude</th>\n",
       "      <th>start_station_longitude</th>\n",
       "      <th>end_station_id</th>\n",
       "      <th>end_station_name</th>\n",
       "      <th>end_station_latitude</th>\n",
       "      <th>...</th>\n",
       "      <th>user_type</th>\n",
       "      <th>bike_share_for_all_trip</th>\n",
       "      <th>start_date</th>\n",
       "      <th>start_hour</th>\n",
       "      <th>start_day</th>\n",
       "      <th>start_month</th>\n",
       "      <th>end_date</th>\n",
       "      <th>end_hour</th>\n",
       "      <th>end_day</th>\n",
       "      <th>end_month</th>\n",
       "    </tr>\n",
       "  </thead>\n",
       "  <tbody>\n",
       "    <tr>\n",
       "      <td>0</td>\n",
       "      <td>598</td>\n",
       "      <td>2018-02-28 23:59:47.097</td>\n",
       "      <td>2018-03-01 00:09:45.187</td>\n",
       "      <td>284.0</td>\n",
       "      <td>Yerba Buena Center for the Arts (Howard St at ...</td>\n",
       "      <td>37.784872</td>\n",
       "      <td>-122.400876</td>\n",
       "      <td>114.0</td>\n",
       "      <td>Rhode Island St at 17th St</td>\n",
       "      <td>37.764478</td>\n",
       "      <td>...</td>\n",
       "      <td>Subscriber</td>\n",
       "      <td>No</td>\n",
       "      <td>2018-02-28</td>\n",
       "      <td>23</td>\n",
       "      <td>Wednesday</td>\n",
       "      <td>February</td>\n",
       "      <td>2018-03-01</td>\n",
       "      <td>00</td>\n",
       "      <td>Thursday</td>\n",
       "      <td>March</td>\n",
       "    </tr>\n",
       "    <tr>\n",
       "      <td>1</td>\n",
       "      <td>943</td>\n",
       "      <td>2018-02-28 23:21:16.495</td>\n",
       "      <td>2018-02-28 23:36:59.974</td>\n",
       "      <td>6.0</td>\n",
       "      <td>The Embarcadero at Sansome St</td>\n",
       "      <td>37.804770</td>\n",
       "      <td>-122.403234</td>\n",
       "      <td>324.0</td>\n",
       "      <td>Union Square (Powell St at Post St)</td>\n",
       "      <td>37.788300</td>\n",
       "      <td>...</td>\n",
       "      <td>Customer</td>\n",
       "      <td>No</td>\n",
       "      <td>2018-02-28</td>\n",
       "      <td>23</td>\n",
       "      <td>Wednesday</td>\n",
       "      <td>February</td>\n",
       "      <td>2018-02-28</td>\n",
       "      <td>23</td>\n",
       "      <td>Wednesday</td>\n",
       "      <td>February</td>\n",
       "    </tr>\n",
       "  </tbody>\n",
       "</table>\n",
       "<p>2 rows × 22 columns</p>\n",
       "</div>"
      ],
      "text/plain": [
       "   duration_sec              start_time                end_time  \\\n",
       "0           598 2018-02-28 23:59:47.097 2018-03-01 00:09:45.187   \n",
       "1           943 2018-02-28 23:21:16.495 2018-02-28 23:36:59.974   \n",
       "\n",
       "  start_station_id                                 start_station_name  \\\n",
       "0            284.0  Yerba Buena Center for the Arts (Howard St at ...   \n",
       "1              6.0                      The Embarcadero at Sansome St   \n",
       "\n",
       "   start_station_latitude  start_station_longitude end_station_id  \\\n",
       "0               37.784872              -122.400876          114.0   \n",
       "1               37.804770              -122.403234          324.0   \n",
       "\n",
       "                      end_station_name  end_station_latitude  ...   user_type  \\\n",
       "0           Rhode Island St at 17th St             37.764478  ...  Subscriber   \n",
       "1  Union Square (Powell St at Post St)             37.788300  ...    Customer   \n",
       "\n",
       "  bike_share_for_all_trip  start_date start_hour  start_day start_month  \\\n",
       "0                      No  2018-02-28         23  Wednesday    February   \n",
       "1                      No  2018-02-28         23  Wednesday    February   \n",
       "\n",
       "     end_date end_hour    end_day end_month  \n",
       "0  2018-03-01       00   Thursday     March  \n",
       "1  2018-02-28       23  Wednesday  February  \n",
       "\n",
       "[2 rows x 22 columns]"
      ]
     },
     "execution_count": 30,
     "metadata": {},
     "output_type": "execute_result"
    }
   ],
   "source": [
    "#Add columns for start date, hour, day and month.\n",
    "biketrip18_clean['start_date'] = biketrip18_clean.start_time.dt.strftime('%Y-%m-%d')\n",
    "biketrip18_clean['start_hour'] = biketrip18_clean.start_time.dt.strftime('%H')\n",
    "biketrip18_clean['start_day'] = biketrip18_clean.start_time.dt.strftime('%A')\n",
    "biketrip18_clean['start_month'] = biketrip18_clean.start_time.dt.strftime('%B')\n",
    "\n",
    "#Add columns for end date, hour, day and month.\n",
    "biketrip18_clean['end_date'] = biketrip18_clean.end_time.dt.strftime('%Y-%m-%d')\n",
    "biketrip18_clean['end_hour'] = biketrip18_clean.end_time.dt.strftime('%H')\n",
    "biketrip18_clean['end_day'] = biketrip18_clean.end_time.dt.strftime('%A')\n",
    "biketrip18_clean['end_month'] = biketrip18_clean.end_time.dt.strftime('%B')\n",
    "\n",
    "biketrip18_clean.head(2)"
   ]
  },
  {
   "cell_type": "code",
   "execution_count": 31,
   "metadata": {},
   "outputs": [],
   "source": [
    "#Save the modified data set to csv file.\n",
    "biketrip18_clean.to_csv('biketrip_clean_2018.csv', index=False)"
   ]
  },
  {
   "cell_type": "code",
   "execution_count": 183,
   "metadata": {},
   "outputs": [
    {
     "data": {
      "text/html": [
       "<div>\n",
       "<style scoped>\n",
       "    .dataframe tbody tr th:only-of-type {\n",
       "        vertical-align: middle;\n",
       "    }\n",
       "\n",
       "    .dataframe tbody tr th {\n",
       "        vertical-align: top;\n",
       "    }\n",
       "\n",
       "    .dataframe thead th {\n",
       "        text-align: right;\n",
       "    }\n",
       "</style>\n",
       "<table border=\"1\" class=\"dataframe\">\n",
       "  <thead>\n",
       "    <tr style=\"text-align: right;\">\n",
       "      <th></th>\n",
       "      <th>duration_sec</th>\n",
       "      <th>start_time</th>\n",
       "      <th>end_time</th>\n",
       "      <th>start_station_id</th>\n",
       "      <th>start_station_name</th>\n",
       "      <th>start_station_latitude</th>\n",
       "      <th>start_station_longitude</th>\n",
       "      <th>end_station_id</th>\n",
       "      <th>end_station_name</th>\n",
       "      <th>end_station_latitude</th>\n",
       "      <th>...</th>\n",
       "      <th>user_type</th>\n",
       "      <th>bike_share_for_all_trip</th>\n",
       "      <th>start_date</th>\n",
       "      <th>start_hour</th>\n",
       "      <th>start_day</th>\n",
       "      <th>start_month</th>\n",
       "      <th>end_date</th>\n",
       "      <th>end_hour</th>\n",
       "      <th>end_day</th>\n",
       "      <th>end_month</th>\n",
       "    </tr>\n",
       "  </thead>\n",
       "  <tbody>\n",
       "    <tr>\n",
       "      <td>0</td>\n",
       "      <td>598</td>\n",
       "      <td>2018-02-28 23:59:47.097</td>\n",
       "      <td>2018-03-01 00:09:45.187</td>\n",
       "      <td>284.0</td>\n",
       "      <td>Yerba Buena Center for the Arts (Howard St at ...</td>\n",
       "      <td>37.784872</td>\n",
       "      <td>-122.400876</td>\n",
       "      <td>114.0</td>\n",
       "      <td>Rhode Island St at 17th St</td>\n",
       "      <td>37.764478</td>\n",
       "      <td>...</td>\n",
       "      <td>Subscriber</td>\n",
       "      <td>No</td>\n",
       "      <td>2018-02-28</td>\n",
       "      <td>23</td>\n",
       "      <td>Wednesday</td>\n",
       "      <td>February</td>\n",
       "      <td>2018-03-01</td>\n",
       "      <td>0</td>\n",
       "      <td>Thursday</td>\n",
       "      <td>March</td>\n",
       "    </tr>\n",
       "    <tr>\n",
       "      <td>1</td>\n",
       "      <td>943</td>\n",
       "      <td>2018-02-28 23:21:16.495</td>\n",
       "      <td>2018-02-28 23:36:59.974</td>\n",
       "      <td>6.0</td>\n",
       "      <td>The Embarcadero at Sansome St</td>\n",
       "      <td>37.804770</td>\n",
       "      <td>-122.403234</td>\n",
       "      <td>324.0</td>\n",
       "      <td>Union Square (Powell St at Post St)</td>\n",
       "      <td>37.788300</td>\n",
       "      <td>...</td>\n",
       "      <td>Customer</td>\n",
       "      <td>No</td>\n",
       "      <td>2018-02-28</td>\n",
       "      <td>23</td>\n",
       "      <td>Wednesday</td>\n",
       "      <td>February</td>\n",
       "      <td>2018-02-28</td>\n",
       "      <td>23</td>\n",
       "      <td>Wednesday</td>\n",
       "      <td>February</td>\n",
       "    </tr>\n",
       "    <tr>\n",
       "      <td>2</td>\n",
       "      <td>18587</td>\n",
       "      <td>2018-02-28 18:20:55.190</td>\n",
       "      <td>2018-02-28 23:30:42.925</td>\n",
       "      <td>93.0</td>\n",
       "      <td>4th St at Mission Bay Blvd S</td>\n",
       "      <td>37.770407</td>\n",
       "      <td>-122.391198</td>\n",
       "      <td>15.0</td>\n",
       "      <td>San Francisco Ferry Building (Harry Bridges Pl...</td>\n",
       "      <td>37.795392</td>\n",
       "      <td>...</td>\n",
       "      <td>Customer</td>\n",
       "      <td>No</td>\n",
       "      <td>2018-02-28</td>\n",
       "      <td>18</td>\n",
       "      <td>Wednesday</td>\n",
       "      <td>February</td>\n",
       "      <td>2018-02-28</td>\n",
       "      <td>23</td>\n",
       "      <td>Wednesday</td>\n",
       "      <td>February</td>\n",
       "    </tr>\n",
       "    <tr>\n",
       "      <td>3</td>\n",
       "      <td>18558</td>\n",
       "      <td>2018-02-28 18:20:53.621</td>\n",
       "      <td>2018-02-28 23:30:12.450</td>\n",
       "      <td>93.0</td>\n",
       "      <td>4th St at Mission Bay Blvd S</td>\n",
       "      <td>37.770407</td>\n",
       "      <td>-122.391198</td>\n",
       "      <td>15.0</td>\n",
       "      <td>San Francisco Ferry Building (Harry Bridges Pl...</td>\n",
       "      <td>37.795392</td>\n",
       "      <td>...</td>\n",
       "      <td>Customer</td>\n",
       "      <td>No</td>\n",
       "      <td>2018-02-28</td>\n",
       "      <td>18</td>\n",
       "      <td>Wednesday</td>\n",
       "      <td>February</td>\n",
       "      <td>2018-02-28</td>\n",
       "      <td>23</td>\n",
       "      <td>Wednesday</td>\n",
       "      <td>February</td>\n",
       "    </tr>\n",
       "    <tr>\n",
       "      <td>4</td>\n",
       "      <td>885</td>\n",
       "      <td>2018-02-28 23:15:12.858</td>\n",
       "      <td>2018-02-28 23:29:58.608</td>\n",
       "      <td>308.0</td>\n",
       "      <td>San Pedro Square</td>\n",
       "      <td>37.336802</td>\n",
       "      <td>-121.894090</td>\n",
       "      <td>297.0</td>\n",
       "      <td>Locust St at Grant St</td>\n",
       "      <td>37.322980</td>\n",
       "      <td>...</td>\n",
       "      <td>Subscriber</td>\n",
       "      <td>Yes</td>\n",
       "      <td>2018-02-28</td>\n",
       "      <td>23</td>\n",
       "      <td>Wednesday</td>\n",
       "      <td>February</td>\n",
       "      <td>2018-02-28</td>\n",
       "      <td>23</td>\n",
       "      <td>Wednesday</td>\n",
       "      <td>February</td>\n",
       "    </tr>\n",
       "  </tbody>\n",
       "</table>\n",
       "<p>5 rows × 22 columns</p>\n",
       "</div>"
      ],
      "text/plain": [
       "   duration_sec               start_time                 end_time  \\\n",
       "0           598  2018-02-28 23:59:47.097  2018-03-01 00:09:45.187   \n",
       "1           943  2018-02-28 23:21:16.495  2018-02-28 23:36:59.974   \n",
       "2         18587  2018-02-28 18:20:55.190  2018-02-28 23:30:42.925   \n",
       "3         18558  2018-02-28 18:20:53.621  2018-02-28 23:30:12.450   \n",
       "4           885  2018-02-28 23:15:12.858  2018-02-28 23:29:58.608   \n",
       "\n",
       "   start_station_id                                 start_station_name  \\\n",
       "0             284.0  Yerba Buena Center for the Arts (Howard St at ...   \n",
       "1               6.0                      The Embarcadero at Sansome St   \n",
       "2              93.0                       4th St at Mission Bay Blvd S   \n",
       "3              93.0                       4th St at Mission Bay Blvd S   \n",
       "4             308.0                                   San Pedro Square   \n",
       "\n",
       "   start_station_latitude  start_station_longitude  end_station_id  \\\n",
       "0               37.784872              -122.400876           114.0   \n",
       "1               37.804770              -122.403234           324.0   \n",
       "2               37.770407              -122.391198            15.0   \n",
       "3               37.770407              -122.391198            15.0   \n",
       "4               37.336802              -121.894090           297.0   \n",
       "\n",
       "                                    end_station_name  end_station_latitude  \\\n",
       "0                         Rhode Island St at 17th St             37.764478   \n",
       "1                Union Square (Powell St at Post St)             37.788300   \n",
       "2  San Francisco Ferry Building (Harry Bridges Pl...             37.795392   \n",
       "3  San Francisco Ferry Building (Harry Bridges Pl...             37.795392   \n",
       "4                              Locust St at Grant St             37.322980   \n",
       "\n",
       "   ...   user_type  bike_share_for_all_trip  start_date start_hour  start_day  \\\n",
       "0  ...  Subscriber                       No  2018-02-28         23  Wednesday   \n",
       "1  ...    Customer                       No  2018-02-28         23  Wednesday   \n",
       "2  ...    Customer                       No  2018-02-28         18  Wednesday   \n",
       "3  ...    Customer                       No  2018-02-28         18  Wednesday   \n",
       "4  ...  Subscriber                      Yes  2018-02-28         23  Wednesday   \n",
       "\n",
       "   start_month    end_date end_hour    end_day  end_month  \n",
       "0     February  2018-03-01        0   Thursday      March  \n",
       "1     February  2018-02-28       23  Wednesday   February  \n",
       "2     February  2018-02-28       23  Wednesday   February  \n",
       "3     February  2018-02-28       23  Wednesday   February  \n",
       "4     February  2018-02-28       23  Wednesday   February  \n",
       "\n",
       "[5 rows x 22 columns]"
      ]
     },
     "execution_count": 183,
     "metadata": {},
     "output_type": "execute_result"
    }
   ],
   "source": [
    "biketrip18_analysis = pd.read_csv('biketrip_clean_2018.csv')\n",
    "biketrip18_analysis.head()"
   ]
  },
  {
   "cell_type": "markdown",
   "metadata": {},
   "source": [
    "For the analysis I will do bellow,  I use the csv file named \"biketrip_clean_2018.csv\""
   ]
  },
  {
   "cell_type": "markdown",
   "metadata": {},
   "source": [
    "## Univariate Exploration\n",
    "\n",
    "In this section,I am investigating distributions of individual variables such as start hours, day, monnth, duration in minuets, number of customers and subscribers and number of users who shared the bike for all trip."
   ]
  },
  {
   "cell_type": "code",
   "execution_count": 161,
   "metadata": {},
   "outputs": [
    {
     "data": {
      "text/plain": [
       "Text(0, 0.5, 'Count')"
      ]
     },
     "execution_count": 161,
     "metadata": {},
     "output_type": "execute_result"
    },
    {
     "data": {
      "image/png": "[encoded data removed]",
      "text/plain": [
       "<Figure size 576x432 with 1 Axes>"
      ]
     },
     "metadata": {
      "needs_background": "light"
     },
     "output_type": "display_data"
    }
   ],
   "source": [
    "# Distribution of hours\n",
    "\n",
    "color1 = sb.color_palette('colorblind')[0]\n",
    "\n",
    "sb.countplot(data=biketrip18_analysis, x='start_hour', color = color1)\n",
    "plt.xlabel('Start Hour')\n",
    "plt.ylabel('Count')"
   ]
  },
  {
   "cell_type": "markdown",
   "metadata": {},
   "source": [
    "It can be seen that there are two peak hours, 8am and 17pm. Few users start to use bike between 0am to 5am. The number starts to increase from 6am and it reaches to the highest number in the morning at 8am. Then, the number dropped by half in the next two hours. The number jumps to the highest during a day at 17pm, and it gradyally decreases until midnight. "
   ]
  },
  {
   "cell_type": "code",
   "execution_count": 162,
   "metadata": {},
   "outputs": [
    {
     "data": {
      "text/plain": [
       "Text(0, 0.5, 'Count')"
      ]
     },
     "execution_count": 162,
     "metadata": {},
     "output_type": "execute_result"
    },
    {
     "data": {
      "image/png": "[encoded data removed]",
      "text/plain": [
       "<Figure size 576x432 with 1 Axes>"
      ]
     },
     "metadata": {
      "needs_background": "light"
     },
     "output_type": "display_data"
    }
   ],
   "source": [
    "# Distribution of days\n",
    "\n",
    "day = ['Monday', 'Tuesday', 'Wednesday', 'Thursday', 'Friday', 'Saturday', 'Sunday']\n",
    "daycat = pd.api.types.CategoricalDtype(ordered=True, categories=day)\n",
    "biketrip18_analysis['start_day'] = biketrip18_analysis['start_day'].astype(daycat)\n",
    "\n",
    "sb.countplot(data=biketrip18_analysis, x='start_day', color=color1)\n",
    "plt.xlabel('Start Day')\n",
    "plt.ylabel('Count')"
   ]
  },
  {
   "cell_type": "markdown",
   "metadata": {},
   "source": [
    "The distributions during weekdays and weekends are signifficanty different. The numbers are about 300000 on weekdays, and it became about half on weekends."
   ]
  },
  {
   "cell_type": "code",
   "execution_count": 163,
   "metadata": {},
   "outputs": [
    {
     "data": {
      "text/plain": [
       "Text(0, 0.5, 'Count')"
      ]
     },
     "execution_count": 163,
     "metadata": {},
     "output_type": "execute_result"
    },
    {
     "data": {
      "image/png": "[encoded data removed]",
      "text/plain": [
       "<Figure size 576x432 with 1 Axes>"
      ]
     },
     "metadata": {
      "needs_background": "light"
     },
     "output_type": "display_data"
    }
   ],
   "source": [
    "# Distribution of month\n",
    "\n",
    "month = ['January', 'February', 'March', 'April', 'May', 'June', 'July', 'August', 'September', 'October', 'November', 'December']\n",
    "monthcat = pd.api.types.CategoricalDtype(ordered=True, categories=month)\n",
    "biketrip18_analysis['start_month'] = biketrip18_analysis['start_month'].astype(monthcat)\n",
    "\n",
    "sb.countplot(data=biketrip18_analysis, x='start_month', color=color1)\n",
    "plt.xticks(rotation=45)\n",
    "plt.xlabel('Start Month')\n",
    "plt.ylabel('Count')\n"
   ]
  },
  {
   "cell_type": "markdown",
   "metadata": {},
   "source": [
    "The number from May to October is higher than 175000, and it can be seen that the most users utilize this service. Winter and early spring are not popular seasons for bike users. Judging from the changes of numbers."
   ]
  },
  {
   "cell_type": "code",
   "execution_count": 164,
   "metadata": {},
   "outputs": [
    {
     "data": {
      "text/plain": [
       "Text(0.5, 0, 'Duration in Second')"
      ]
     },
     "execution_count": 164,
     "metadata": {},
     "output_type": "execute_result"
    },
    {
     "data": {
      "image/png": "[encoded data removed]",
      "text/plain": [
       "<Figure size 576x432 with 1 Axes>"
      ]
     },
     "metadata": {
      "needs_background": "light"
     },
     "output_type": "display_data"
    }
   ],
   "source": [
    "plt.hist(data=biketrip18_analysis, x='duration_sec', color=color1)\n",
    "plt.xlabel('Duration in Second')"
   ]
  },
  {
   "cell_type": "markdown",
   "metadata": {},
   "source": [
    "As the duration time is shown in second, it is a little difficult to imagine the situation of trip duration. I will devided the number by 60 and show it in minuets."
   ]
  },
  {
   "cell_type": "code",
   "execution_count": 165,
   "metadata": {},
   "outputs": [],
   "source": [
    "biketrip18_analysis['duration_min'] = biketrip18_analysis['duration_sec']/60"
   ]
  },
  {
   "cell_type": "code",
   "execution_count": 166,
   "metadata": {},
   "outputs": [
    {
     "data": {
      "text/plain": [
       "Text(0.5, 0, 'Duration in Minute')"
      ]
     },
     "execution_count": 166,
     "metadata": {},
     "output_type": "execute_result"
    },
    {
     "data": {
      "image/png": "[encoded data removed]",
      "text/plain": [
       "<Figure size 576x432 with 1 Axes>"
      ]
     },
     "metadata": {
      "needs_background": "light"
     },
     "output_type": "display_data"
    }
   ],
   "source": [
    "plt.hist(data=biketrip18_analysis, x='duration_min', color=color1)\n",
    "plt.xlabel('Duration in Minute')"
   ]
  },
  {
   "cell_type": "markdown",
   "metadata": {},
   "source": [
    "The graph shows that the trip minutes are less than 200 in many cases. I will analyze the duration more below."
   ]
  },
  {
   "cell_type": "code",
   "execution_count": 167,
   "metadata": {},
   "outputs": [
    {
     "data": {
      "text/plain": [
       "count    1.863721e+06\n",
       "mean     1.428838e+01\n",
       "std      3.950631e+01\n",
       "min      1.016667e+00\n",
       "25%      5.833333e+00\n",
       "50%      9.266667e+00\n",
       "75%      1.453333e+01\n",
       "max      1.439433e+03\n",
       "Name: duration_min, dtype: float64"
      ]
     },
     "execution_count": 167,
     "metadata": {},
     "output_type": "execute_result"
    }
   ],
   "source": [
    "biketrip18_analysis['duration_min'].describe()"
   ]
  },
  {
   "cell_type": "code",
   "execution_count": 168,
   "metadata": {
    "scrolled": true
   },
   "outputs": [
    {
     "name": "stdout",
     "output_type": "stream",
     "text": [
      "14.288376183989914\n",
      "1439.4333333333334\n"
     ]
    }
   ],
   "source": [
    "print(biketrip18_analysis['duration_min'].mean())\n",
    "print(biketrip18_analysis['duration_min'].max())"
   ]
  },
  {
   "cell_type": "code",
   "execution_count": 169,
   "metadata": {},
   "outputs": [
    {
     "data": {
      "text/plain": [
       "52.666666666666664"
      ]
     },
     "execution_count": 169,
     "metadata": {},
     "output_type": "execute_result"
    }
   ],
   "source": [
    "np.percentile(biketrip18_analysis['duration_min'], 98)"
   ]
  },
  {
   "cell_type": "markdown",
   "metadata": {},
   "source": [
    "Trip duration of 98% of users are less than 53 minutes."
   ]
  },
  {
   "cell_type": "code",
   "execution_count": 170,
   "metadata": {},
   "outputs": [
    {
     "data": {
      "text/plain": [
       "Text(0.5, 0, 'Trip Duration in Minute')"
      ]
     },
     "execution_count": 170,
     "metadata": {},
     "output_type": "execute_result"
    },
    {
     "data": {
      "image/png": "[encoded data removed]",
      "text/plain": [
       "<Figure size 576x432 with 1 Axes>"
      ]
     },
     "metadata": {
      "needs_background": "light"
     },
     "output_type": "display_data"
    }
   ],
   "source": [
    "plt.hist(data=biketrip18_analysis, x='duration_min', bins=np.arange(0, 60, 1))\n",
    "plt.xticks(np.arange(0, 60, 10))\n",
    "plt.xlabel('Trip Duration in Minute')"
   ]
  },
  {
   "cell_type": "markdown",
   "metadata": {},
   "source": [
    "The histry graph shows that trip duration of most cases is within 50 minutes. In addition, it can be seen that most rides last for only 0 to 20 minutes."
   ]
  },
  {
   "cell_type": "code",
   "execution_count": 171,
   "metadata": {},
   "outputs": [
    {
     "data": {
      "text/plain": [
       "Text(0, 0.5, 'Count')"
      ]
     },
     "execution_count": 171,
     "metadata": {},
     "output_type": "execute_result"
    },
    {
     "data": {
      "image/png": "[encoded data removed]",
      "text/plain": [
       "<Figure size 576x432 with 1 Axes>"
      ]
     },
     "metadata": {
      "needs_background": "light"
     },
     "output_type": "display_data"
    }
   ],
   "source": [
    "sb.countplot(data=biketrip18_analysis, x='user_type', color=color1)\n",
    "plt.xlabel('User Type')\n",
    "plt.ylabel('Count')"
   ]
  },
  {
   "cell_type": "markdown",
   "metadata": {},
   "source": [
    "As the graph shows, tthere is a significant gap between numbers of subscribers and customers."
   ]
  },
  {
   "cell_type": "code",
   "execution_count": 172,
   "metadata": {},
   "outputs": [
    {
     "data": {
      "text/plain": [
       "(-1.1042254605980044,\n",
       " 1.1065949495987788,\n",
       " -1.1061026208216826,\n",
       " 1.1047177893751006)"
      ]
     },
     "execution_count": 172,
     "metadata": {},
     "output_type": "execute_result"
    },
    {
     "data": {
      "image/png": "[encoded data removed]",
      "text/plain": [
       "<Figure size 576x432 with 1 Axes>"
      ]
     },
     "metadata": {},
     "output_type": "display_data"
    }
   ],
   "source": [
    "percentage_user_type = biketrip18_analysis.user_type.value_counts()/biketrip18_analysis.shape[0]\n",
    "plt.pie(percentage_user_type, labels=percentage_user_type.index, startangle=90, counterclock=False, autopct='%1.1f%%')\n",
    "plt.axis('square')"
   ]
  },
  {
   "cell_type": "markdown",
   "metadata": {},
   "source": [
    "85% of total uses are by Subscribers."
   ]
  },
  {
   "cell_type": "code",
   "execution_count": 173,
   "metadata": {
    "scrolled": false
   },
   "outputs": [
    {
     "data": {
      "text/plain": [
       "Text(0, 0.5, 'Count')"
      ]
     },
     "execution_count": 173,
     "metadata": {},
     "output_type": "execute_result"
    },
    {
     "data": {
      "image/png": "[encoded data removed]",
      "text/plain": [
       "<Figure size 576x432 with 1 Axes>"
      ]
     },
     "metadata": {
      "needs_background": "light"
     },
     "output_type": "display_data"
    }
   ],
   "source": [
    "sb.countplot(data=biketrip18_analysis, x='bike_share_for_all_trip', color=color1)\n",
    "plt.xlabel('Bike share')\n",
    "plt.ylabel('Count')"
   ]
  },
  {
   "cell_type": "code",
   "execution_count": 174,
   "metadata": {},
   "outputs": [
    {
     "data": {
      "text/plain": [
       "(-1.1054673297110469,\n",
       " 1.1075905317028791,\n",
       " -1.1068846168567925,\n",
       " 1.1061732445571335)"
      ]
     },
     "execution_count": 174,
     "metadata": {},
     "output_type": "execute_result"
    },
    {
     "data": {
      "image/png": "[encoded data removed]",
      "text/plain": [
       "<Figure size 576x432 with 1 Axes>"
      ]
     },
     "metadata": {},
     "output_type": "display_data"
    }
   ],
   "source": [
    "percentage_user_type = biketrip18_analysis.bike_share_for_all_trip.value_counts()/biketrip18_analysis.shape[0]\n",
    "plt.pie(percentage_user_type, labels=percentage_user_type.index, startangle=90, counterclock=False, autopct='%1.1f%%')\n",
    "plt.axis('square')"
   ]
  },
  {
   "cell_type": "markdown",
   "metadata": {},
   "source": [
    "Over 90% of users do not share bike during their trip."
   ]
  },
  {
   "cell_type": "markdown",
   "metadata": {},
   "source": [
    "### Discuss the distribution(s) of your variable(s) of interest. Were there any unusual points? Did you need to perform any transformations?\n",
    "\n",
    "I did not need any transformations to analyze the distributions of the variables I picked here.\n",
    "\n",
    "By analyzing start hour, day and month, it can be seen that there are popular period in each unit. 8am and 17pm are the peak hours when more users start bike rides. In addition, weekdays are more popular than weekends. Compared with winter and early spring, summber is more popular season to ride a bike. \n",
    "\n",
    "When looking into the trip duration im minutes, most users ride bikes for short time. 98 percent of trip durations is within 53 minutes, and also most of duration last between 0 to 20 minutes.  \n",
    "\n",
    "### Of the features you investigated, were there any unusual distributions? Did you perform any operations on the data to tidy, adjust, or change the form of the data? If so, why did you do this?\n",
    "\n",
    "In this section, I devided start_time into smaller unites, hour, day and month by additing new columns. Also, I added columns of end hour, day and month but I did not use them for the analysis in this section."
   ]
  },
  {
   "cell_type": "markdown",
   "metadata": {},
   "source": [
    "## Bivariate Exploration\n",
    "\n",
    "In this section, I will analyze relationships between pairs of variables. The main focus will be on the trip duration. I will investigate how trip duration changes based on different variables. \n",
    "Firstly, I will look into trip duration of different users."
   ]
  },
  {
   "cell_type": "code",
   "execution_count": 175,
   "metadata": {
    "scrolled": false
   },
   "outputs": [
    {
     "data": {
      "text/plain": [
       "Text(0.5, 0, 'Minuets')"
      ]
     },
     "execution_count": 175,
     "metadata": {},
     "output_type": "execute_result"
    },
    {
     "data": {
      "image/png": "[encoded data removed]",
      "text/plain": [
       "<Figure size 576x432 with 1 Axes>"
      ]
     },
     "metadata": {
      "needs_background": "light"
     },
     "output_type": "display_data"
    }
   ],
   "source": [
    "# Difference of duration between user type\n",
    "ave_min_user = biketrip18_analysis.groupby('user_type')['duration_min'].mean().plot(kind='barh', color=color1)\n",
    "ave_min_user.set_title('Average trip duration of Subscribers and Customers')\n",
    "ave_min_user.set_ylabel('User type')\n",
    "ave_min_user.set_xlabel('Minuets')"
   ]
  },
  {
   "cell_type": "markdown",
   "metadata": {},
   "source": [
    "The average trip duration of subscriber is about 10 minutes, while it is over 30 minutes for customers. "
   ]
  },
  {
   "cell_type": "code",
   "execution_count": 176,
   "metadata": {},
   "outputs": [
    {
     "data": {
      "text/plain": [
       "Text(0.5, 0, 'Minuets')"
      ]
     },
     "execution_count": 176,
     "metadata": {},
     "output_type": "execute_result"
    },
    {
     "data": {
      "image/png": "[encoded data removed]",
      "text/plain": [
       "<Figure size 576x432 with 1 Axes>"
      ]
     },
     "metadata": {
      "needs_background": "light"
     },
     "output_type": "display_data"
    }
   ],
   "source": [
    "# Difference of duration between user who shared bike\n",
    "ave_min_share = biketrip18_analysis.groupby('bike_share_for_all_trip')['duration_min'].mean().plot(kind='barh', color=color1)\n",
    "ave_min_share.set_title('Average trip duration of users who share bike for all trip and do not')\n",
    "ave_min_share.set_ylabel('Bike share')\n",
    "ave_min_share.set_xlabel('Minuets')"
   ]
  },
  {
   "cell_type": "markdown",
   "metadata": {},
   "source": [
    "The graph does not show a outstanding difference between users who experienced bike share or did not on their trip."
   ]
  },
  {
   "cell_type": "markdown",
   "metadata": {},
   "source": [
    "I will see if there is a different patterns of trip duration based on day and month. "
   ]
  },
  {
   "cell_type": "code",
   "execution_count": 177,
   "metadata": {},
   "outputs": [
    {
     "data": {
      "text/plain": [
       "Text(0, 0.5, 'Duration in Minute')"
      ]
     },
     "execution_count": 177,
     "metadata": {},
     "output_type": "execute_result"
    },
    {
     "data": {
      "image/png": "[encoded data removed]",
      "text/plain": [
       "<Figure size 576x432 with 1 Axes>"
      ]
     },
     "metadata": {
      "needs_background": "light"
     },
     "output_type": "display_data"
    }
   ],
   "source": [
    "# Duration based on day\n",
    "sb.barplot(data=biketrip18_analysis, x='start_day', y='duration_min', color=color1)\n",
    "plt.xlabel('Day')\n",
    "plt.ylabel('Duration in Minute')"
   ]
  },
  {
   "cell_type": "markdown",
   "metadata": {},
   "source": [
    "As shown in the graph, trip duraton minuets on weekends are longer than the ones on weekdays, while less users ride bikes on weekends. "
   ]
  },
  {
   "cell_type": "code",
   "execution_count": 178,
   "metadata": {},
   "outputs": [
    {
     "data": {
      "text/plain": [
       "Text(0, 0.5, 'Duration in Minute')"
      ]
     },
     "execution_count": 178,
     "metadata": {},
     "output_type": "execute_result"
    },
    {
     "data": {
      "image/png": "[encoded data removed]",
      "text/plain": [
       "<Figure size 576x432 with 1 Axes>"
      ]
     },
     "metadata": {
      "needs_background": "light"
     },
     "output_type": "display_data"
    }
   ],
   "source": [
    "#Duration based on month\n",
    "sb.barplot(data=biketrip18_analysis, x='start_month', y='duration_min', color=color1)\n",
    "\n",
    "plt.xticks(rotation=45)\n",
    "plt.xlabel('Month')\n",
    "plt.ylabel('Duration in Minute')"
   ]
  },
  {
   "cell_type": "markdown",
   "metadata": {},
   "source": [
    "On the other hand, when looking into trip duration by month, there is no significant differences."
   ]
  },
  {
   "cell_type": "markdown",
   "metadata": {},
   "source": [
    "### Talk about some of the relationships you observed in this part of the investigation. How did the feature(s) of interest vary with other features in the dataset?\n",
    "\n",
    "Trip durtion minutes changes their patterns based on some variables. If you look at the difference of trip duration between users who shared bike on their trip and who didn't, you cannot see a clear difference. On the other hand, trip duration varies clearly with user type. The average of trip duration of customers is about 20 minutes longer than the one of subscribers. In this sense, we can predict that subscribers use bikes for shorter trips. \n",
    "\n",
    "Next, trip duration changes on weekdays and weekends but in per month. Trip duration lasts longer by about 7 minutes on weekends than the one on weekdys. In contrast, there is no significant change between month."
   ]
  },
  {
   "cell_type": "markdown",
   "metadata": {},
   "source": [
    "## Multivariate Exploration\n",
    "\n",
    "In this section, I will create plots of three variables to for further investigation. As the previous section described, there was a gap between trip duration minutes of subscribers and ones of customers. In addition, it was observed that trip duration changes on weekdays and weekends. I will look into the patterns of subscribers' trip duration and customers' by comparing with them."
   ]
  },
  {
   "cell_type": "code",
   "execution_count": 93,
   "metadata": {
    "scrolled": false
   },
   "outputs": [
    {
     "data": {
      "text/plain": [
       "Text(0, 0.5, 'Duration in Minute')"
      ]
     },
     "execution_count": 93,
     "metadata": {},
     "output_type": "execute_result"
    },
    {
     "data": {
      "image/png": "[encoded data removed]",
      "text/plain": [
       "<Figure size 576x432 with 1 Axes>"
      ]
     },
     "metadata": {
      "needs_background": "light"
     },
     "output_type": "display_data"
    }
   ],
   "source": [
    "sb.pointplot(data=biketrip18_analysis, x='start_day', y='duration_min', hue='user_type', linestyles=\"solid\")\n",
    "plt.title('Average trip duration of Subscriber and Customer per day')\n",
    "plt.xlabel('Day')\n",
    "plt.ylabel('Duration in Minute')"
   ]
  },
  {
   "cell_type": "markdown",
   "metadata": {},
   "source": [
    "Both of subscribers' and customers' trip duration increases on weekends."
   ]
  },
  {
   "cell_type": "markdown",
   "metadata": {},
   "source": [
    "### Talk about some of the relationships you observed in this part of the investigation. Were there features that strengthened each other in terms of looking at your feature(s) of interest?\n",
    "\n",
    "Subscribers' duration minuyes are much shorter than customers' on each day a week. On the other hand, there is a common point for both user types. Trip duration of both user types increases on weekends.　Customers' trip duration varies slightly while subscribers show stable trip duration through weekdays.\n",
    "\n",
    "### Were there any interesting or surprising interactions between features?\n",
    "\n",
    "It is interesting that customers' and subscribers' trip duration has the similar pattern of changes through a week even though their average duration minuets are significantly different."
   ]
  },
  {
   "cell_type": "code",
   "execution_count": null,
   "metadata": {},
   "outputs": [],
   "source": []
  }
 ],
 "metadata": {
  "kernelspec": {
   "display_name": "Python 3",
   "language": "python",
   "name": "python3"
  },
  "language_info": {
   "codemirror_mode": {
    "name": "ipython",
    "version": 3
   },
   "file_extension": ".py",
   "mimetype": "text/x-python",
   "name": "python",
   "nbconvert_exporter": "python",
   "pygments_lexer": "ipython3",
   "version": "3.7.6"
  }
 },
 "nbformat": 4,
 "nbformat_minor": 2
}
